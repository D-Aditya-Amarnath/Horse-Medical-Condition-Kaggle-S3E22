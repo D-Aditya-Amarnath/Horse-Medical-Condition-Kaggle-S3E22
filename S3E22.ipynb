{
 "cells": [
  {
   "cell_type": "code",
   "execution_count": 1,
   "metadata": {},
   "outputs": [],
   "source": [
    "import pandas as pd\n",
    "import numpy as np\n",
    "import plotly.express as px\n",
    "import seaborn as sns\n",
    "import matplotlib.pyplot as plt\n",
    "\n",
    "import warnings\n",
    "warnings.filterwarnings(\"ignore\")\n"
   ]
  },
  {
   "cell_type": "code",
   "execution_count": 2,
   "metadata": {},
   "outputs": [],
   "source": [
    "original_df = pd.read_csv(\"./data/horse.csv\")\n",
    "train_df = pd.read_csv(\"./data/train.csv\")\n",
    "test_df = pd.read_csv(\"./data/test.csv\")"
   ]
  },
  {
   "cell_type": "code",
   "execution_count": 3,
   "metadata": {},
   "outputs": [
    {
     "name": "stdout",
     "output_type": "stream",
     "text": [
      "original data shape : (299, 28)\n",
      "train data shape : (1235, 29)\n",
      "test data shape : (824, 28)\n"
     ]
    }
   ],
   "source": [
    "print(f\"original data shape : {original_df.shape}\")\n",
    "print(f\"train data shape : {train_df.shape}\")\n",
    "print(f\"test data shape : {test_df.shape}\")"
   ]
  },
  {
   "cell_type": "code",
   "execution_count": 4,
   "metadata": {},
   "outputs": [
    {
     "data": {
      "text/html": [
       "<div>\n",
       "<style scoped>\n",
       "    .dataframe tbody tr th:only-of-type {\n",
       "        vertical-align: middle;\n",
       "    }\n",
       "\n",
       "    .dataframe tbody tr th {\n",
       "        vertical-align: top;\n",
       "    }\n",
       "\n",
       "    .dataframe thead th {\n",
       "        text-align: right;\n",
       "    }\n",
       "</style>\n",
       "<table border=\"1\" class=\"dataframe\">\n",
       "  <thead>\n",
       "    <tr style=\"text-align: right;\">\n",
       "      <th></th>\n",
       "      <th>dtypes</th>\n",
       "      <th>train_missing#</th>\n",
       "      <th>train_missing%</th>\n",
       "      <th>train_uniques</th>\n",
       "      <th>train_count</th>\n",
       "      <th>test_missing#</th>\n",
       "      <th>test_missing%</th>\n",
       "      <th>test_uniques</th>\n",
       "      <th>test_count</th>\n",
       "      <th>origin_missing#</th>\n",
       "      <th>origin_missing%</th>\n",
       "      <th>origin_uniques</th>\n",
       "      <th>origin_count</th>\n",
       "    </tr>\n",
       "  </thead>\n",
       "  <tbody>\n",
       "    <tr>\n",
       "      <th>surgery</th>\n",
       "      <td>object</td>\n",
       "      <td>0</td>\n",
       "      <td>0.0</td>\n",
       "      <td>2</td>\n",
       "      <td>1235</td>\n",
       "      <td>0.0</td>\n",
       "      <td>0.0</td>\n",
       "      <td>2.0</td>\n",
       "      <td>824.0</td>\n",
       "      <td>0.0</td>\n",
       "      <td>0.0</td>\n",
       "      <td>2.0</td>\n",
       "      <td>299.0</td>\n",
       "    </tr>\n",
       "    <tr>\n",
       "      <th>age</th>\n",
       "      <td>object</td>\n",
       "      <td>0</td>\n",
       "      <td>0.0</td>\n",
       "      <td>2</td>\n",
       "      <td>1235</td>\n",
       "      <td>0.0</td>\n",
       "      <td>0.0</td>\n",
       "      <td>2.0</td>\n",
       "      <td>824.0</td>\n",
       "      <td>0.0</td>\n",
       "      <td>0.0</td>\n",
       "      <td>2.0</td>\n",
       "      <td>299.0</td>\n",
       "    </tr>\n",
       "    <tr>\n",
       "      <th>hospital_number</th>\n",
       "      <td>int64</td>\n",
       "      <td>0</td>\n",
       "      <td>0.0</td>\n",
       "      <td>255</td>\n",
       "      <td>1235</td>\n",
       "      <td>0.0</td>\n",
       "      <td>0.0</td>\n",
       "      <td>210.0</td>\n",
       "      <td>824.0</td>\n",
       "      <td>0.0</td>\n",
       "      <td>0.0</td>\n",
       "      <td>283.0</td>\n",
       "      <td>299.0</td>\n",
       "    </tr>\n",
       "    <tr>\n",
       "      <th>rectal_temp</th>\n",
       "      <td>float64</td>\n",
       "      <td>0</td>\n",
       "      <td>0.0</td>\n",
       "      <td>43</td>\n",
       "      <td>1235</td>\n",
       "      <td>0.0</td>\n",
       "      <td>0.0</td>\n",
       "      <td>34.0</td>\n",
       "      <td>824.0</td>\n",
       "      <td>60.0</td>\n",
       "      <td>20.1</td>\n",
       "      <td>40.0</td>\n",
       "      <td>239.0</td>\n",
       "    </tr>\n",
       "    <tr>\n",
       "      <th>pulse</th>\n",
       "      <td>float64</td>\n",
       "      <td>0</td>\n",
       "      <td>0.0</td>\n",
       "      <td>50</td>\n",
       "      <td>1235</td>\n",
       "      <td>0.0</td>\n",
       "      <td>0.0</td>\n",
       "      <td>49.0</td>\n",
       "      <td>824.0</td>\n",
       "      <td>24.0</td>\n",
       "      <td>8.0</td>\n",
       "      <td>52.0</td>\n",
       "      <td>275.0</td>\n",
       "    </tr>\n",
       "    <tr>\n",
       "      <th>respiratory_rate</th>\n",
       "      <td>float64</td>\n",
       "      <td>0</td>\n",
       "      <td>0.0</td>\n",
       "      <td>37</td>\n",
       "      <td>1235</td>\n",
       "      <td>0.0</td>\n",
       "      <td>0.0</td>\n",
       "      <td>38.0</td>\n",
       "      <td>824.0</td>\n",
       "      <td>58.0</td>\n",
       "      <td>19.4</td>\n",
       "      <td>40.0</td>\n",
       "      <td>241.0</td>\n",
       "    </tr>\n",
       "    <tr>\n",
       "      <th>temp_of_extremities</th>\n",
       "      <td>object</td>\n",
       "      <td>39</td>\n",
       "      <td>3.2</td>\n",
       "      <td>4</td>\n",
       "      <td>1196</td>\n",
       "      <td>35.0</td>\n",
       "      <td>4.2</td>\n",
       "      <td>4.0</td>\n",
       "      <td>789.0</td>\n",
       "      <td>56.0</td>\n",
       "      <td>18.7</td>\n",
       "      <td>4.0</td>\n",
       "      <td>243.0</td>\n",
       "    </tr>\n",
       "    <tr>\n",
       "      <th>peripheral_pulse</th>\n",
       "      <td>object</td>\n",
       "      <td>60</td>\n",
       "      <td>4.9</td>\n",
       "      <td>4</td>\n",
       "      <td>1175</td>\n",
       "      <td>47.0</td>\n",
       "      <td>5.7</td>\n",
       "      <td>4.0</td>\n",
       "      <td>777.0</td>\n",
       "      <td>69.0</td>\n",
       "      <td>23.1</td>\n",
       "      <td>4.0</td>\n",
       "      <td>230.0</td>\n",
       "    </tr>\n",
       "    <tr>\n",
       "      <th>mucous_membrane</th>\n",
       "      <td>object</td>\n",
       "      <td>21</td>\n",
       "      <td>1.7</td>\n",
       "      <td>6</td>\n",
       "      <td>1214</td>\n",
       "      <td>13.0</td>\n",
       "      <td>1.6</td>\n",
       "      <td>6.0</td>\n",
       "      <td>811.0</td>\n",
       "      <td>47.0</td>\n",
       "      <td>15.7</td>\n",
       "      <td>6.0</td>\n",
       "      <td>252.0</td>\n",
       "    </tr>\n",
       "    <tr>\n",
       "      <th>capillary_refill_time</th>\n",
       "      <td>object</td>\n",
       "      <td>6</td>\n",
       "      <td>0.5</td>\n",
       "      <td>3</td>\n",
       "      <td>1229</td>\n",
       "      <td>6.0</td>\n",
       "      <td>0.7</td>\n",
       "      <td>3.0</td>\n",
       "      <td>818.0</td>\n",
       "      <td>32.0</td>\n",
       "      <td>10.7</td>\n",
       "      <td>3.0</td>\n",
       "      <td>267.0</td>\n",
       "    </tr>\n",
       "    <tr>\n",
       "      <th>pain</th>\n",
       "      <td>object</td>\n",
       "      <td>44</td>\n",
       "      <td>3.6</td>\n",
       "      <td>6</td>\n",
       "      <td>1191</td>\n",
       "      <td>29.0</td>\n",
       "      <td>3.5</td>\n",
       "      <td>6.0</td>\n",
       "      <td>795.0</td>\n",
       "      <td>55.0</td>\n",
       "      <td>18.4</td>\n",
       "      <td>5.0</td>\n",
       "      <td>244.0</td>\n",
       "    </tr>\n",
       "    <tr>\n",
       "      <th>peristalsis</th>\n",
       "      <td>object</td>\n",
       "      <td>20</td>\n",
       "      <td>1.6</td>\n",
       "      <td>5</td>\n",
       "      <td>1215</td>\n",
       "      <td>19.0</td>\n",
       "      <td>2.3</td>\n",
       "      <td>4.0</td>\n",
       "      <td>805.0</td>\n",
       "      <td>44.0</td>\n",
       "      <td>14.7</td>\n",
       "      <td>4.0</td>\n",
       "      <td>255.0</td>\n",
       "    </tr>\n",
       "    <tr>\n",
       "      <th>abdominal_distention</th>\n",
       "      <td>object</td>\n",
       "      <td>23</td>\n",
       "      <td>1.9</td>\n",
       "      <td>4</td>\n",
       "      <td>1212</td>\n",
       "      <td>22.0</td>\n",
       "      <td>2.7</td>\n",
       "      <td>4.0</td>\n",
       "      <td>802.0</td>\n",
       "      <td>56.0</td>\n",
       "      <td>18.7</td>\n",
       "      <td>4.0</td>\n",
       "      <td>243.0</td>\n",
       "    </tr>\n",
       "    <tr>\n",
       "      <th>nasogastric_tube</th>\n",
       "      <td>object</td>\n",
       "      <td>80</td>\n",
       "      <td>6.5</td>\n",
       "      <td>3</td>\n",
       "      <td>1155</td>\n",
       "      <td>64.0</td>\n",
       "      <td>7.8</td>\n",
       "      <td>3.0</td>\n",
       "      <td>760.0</td>\n",
       "      <td>104.0</td>\n",
       "      <td>34.8</td>\n",
       "      <td>3.0</td>\n",
       "      <td>195.0</td>\n",
       "    </tr>\n",
       "    <tr>\n",
       "      <th>nasogastric_reflux</th>\n",
       "      <td>object</td>\n",
       "      <td>21</td>\n",
       "      <td>1.7</td>\n",
       "      <td>4</td>\n",
       "      <td>1214</td>\n",
       "      <td>14.0</td>\n",
       "      <td>1.7</td>\n",
       "      <td>3.0</td>\n",
       "      <td>810.0</td>\n",
       "      <td>106.0</td>\n",
       "      <td>35.5</td>\n",
       "      <td>3.0</td>\n",
       "      <td>193.0</td>\n",
       "    </tr>\n",
       "    <tr>\n",
       "      <th>nasogastric_reflux_ph</th>\n",
       "      <td>float64</td>\n",
       "      <td>0</td>\n",
       "      <td>0.0</td>\n",
       "      <td>26</td>\n",
       "      <td>1235</td>\n",
       "      <td>0.0</td>\n",
       "      <td>0.0</td>\n",
       "      <td>29.0</td>\n",
       "      <td>824.0</td>\n",
       "      <td>246.0</td>\n",
       "      <td>82.3</td>\n",
       "      <td>20.0</td>\n",
       "      <td>53.0</td>\n",
       "    </tr>\n",
       "    <tr>\n",
       "      <th>rectal_exam_feces</th>\n",
       "      <td>object</td>\n",
       "      <td>190</td>\n",
       "      <td>15.4</td>\n",
       "      <td>5</td>\n",
       "      <td>1045</td>\n",
       "      <td>125.0</td>\n",
       "      <td>15.2</td>\n",
       "      <td>4.0</td>\n",
       "      <td>699.0</td>\n",
       "      <td>102.0</td>\n",
       "      <td>34.1</td>\n",
       "      <td>4.0</td>\n",
       "      <td>197.0</td>\n",
       "    </tr>\n",
       "    <tr>\n",
       "      <th>abdomen</th>\n",
       "      <td>object</td>\n",
       "      <td>213</td>\n",
       "      <td>17.2</td>\n",
       "      <td>5</td>\n",
       "      <td>1022</td>\n",
       "      <td>154.0</td>\n",
       "      <td>18.7</td>\n",
       "      <td>5.0</td>\n",
       "      <td>670.0</td>\n",
       "      <td>118.0</td>\n",
       "      <td>39.5</td>\n",
       "      <td>5.0</td>\n",
       "      <td>181.0</td>\n",
       "    </tr>\n",
       "    <tr>\n",
       "      <th>packed_cell_volume</th>\n",
       "      <td>float64</td>\n",
       "      <td>0</td>\n",
       "      <td>0.0</td>\n",
       "      <td>49</td>\n",
       "      <td>1235</td>\n",
       "      <td>0.0</td>\n",
       "      <td>0.0</td>\n",
       "      <td>48.0</td>\n",
       "      <td>824.0</td>\n",
       "      <td>29.0</td>\n",
       "      <td>9.7</td>\n",
       "      <td>50.0</td>\n",
       "      <td>270.0</td>\n",
       "    </tr>\n",
       "    <tr>\n",
       "      <th>total_protein</th>\n",
       "      <td>float64</td>\n",
       "      <td>0</td>\n",
       "      <td>0.0</td>\n",
       "      <td>83</td>\n",
       "      <td>1235</td>\n",
       "      <td>0.0</td>\n",
       "      <td>0.0</td>\n",
       "      <td>72.0</td>\n",
       "      <td>824.0</td>\n",
       "      <td>33.0</td>\n",
       "      <td>11.0</td>\n",
       "      <td>80.0</td>\n",
       "      <td>266.0</td>\n",
       "    </tr>\n",
       "    <tr>\n",
       "      <th>abdomo_appearance</th>\n",
       "      <td>object</td>\n",
       "      <td>48</td>\n",
       "      <td>3.9</td>\n",
       "      <td>3</td>\n",
       "      <td>1187</td>\n",
       "      <td>31.0</td>\n",
       "      <td>3.8</td>\n",
       "      <td>3.0</td>\n",
       "      <td>793.0</td>\n",
       "      <td>165.0</td>\n",
       "      <td>55.2</td>\n",
       "      <td>3.0</td>\n",
       "      <td>134.0</td>\n",
       "    </tr>\n",
       "    <tr>\n",
       "      <th>abdomo_protein</th>\n",
       "      <td>float64</td>\n",
       "      <td>0</td>\n",
       "      <td>0.0</td>\n",
       "      <td>54</td>\n",
       "      <td>1235</td>\n",
       "      <td>0.0</td>\n",
       "      <td>0.0</td>\n",
       "      <td>50.0</td>\n",
       "      <td>824.0</td>\n",
       "      <td>198.0</td>\n",
       "      <td>66.2</td>\n",
       "      <td>37.0</td>\n",
       "      <td>101.0</td>\n",
       "    </tr>\n",
       "    <tr>\n",
       "      <th>surgical_lesion</th>\n",
       "      <td>object</td>\n",
       "      <td>0</td>\n",
       "      <td>0.0</td>\n",
       "      <td>2</td>\n",
       "      <td>1235</td>\n",
       "      <td>0.0</td>\n",
       "      <td>0.0</td>\n",
       "      <td>2.0</td>\n",
       "      <td>824.0</td>\n",
       "      <td>0.0</td>\n",
       "      <td>0.0</td>\n",
       "      <td>2.0</td>\n",
       "      <td>299.0</td>\n",
       "    </tr>\n",
       "    <tr>\n",
       "      <th>lesion_1</th>\n",
       "      <td>int64</td>\n",
       "      <td>0</td>\n",
       "      <td>0.0</td>\n",
       "      <td>57</td>\n",
       "      <td>1235</td>\n",
       "      <td>0.0</td>\n",
       "      <td>0.0</td>\n",
       "      <td>54.0</td>\n",
       "      <td>824.0</td>\n",
       "      <td>0.0</td>\n",
       "      <td>0.0</td>\n",
       "      <td>61.0</td>\n",
       "      <td>299.0</td>\n",
       "    </tr>\n",
       "    <tr>\n",
       "      <th>lesion_2</th>\n",
       "      <td>int64</td>\n",
       "      <td>0</td>\n",
       "      <td>0.0</td>\n",
       "      <td>4</td>\n",
       "      <td>1235</td>\n",
       "      <td>0.0</td>\n",
       "      <td>0.0</td>\n",
       "      <td>4.0</td>\n",
       "      <td>824.0</td>\n",
       "      <td>0.0</td>\n",
       "      <td>0.0</td>\n",
       "      <td>6.0</td>\n",
       "      <td>299.0</td>\n",
       "    </tr>\n",
       "    <tr>\n",
       "      <th>lesion_3</th>\n",
       "      <td>int64</td>\n",
       "      <td>0</td>\n",
       "      <td>0.0</td>\n",
       "      <td>2</td>\n",
       "      <td>1235</td>\n",
       "      <td>0.0</td>\n",
       "      <td>0.0</td>\n",
       "      <td>1.0</td>\n",
       "      <td>824.0</td>\n",
       "      <td>0.0</td>\n",
       "      <td>0.0</td>\n",
       "      <td>2.0</td>\n",
       "      <td>299.0</td>\n",
       "    </tr>\n",
       "    <tr>\n",
       "      <th>cp_data</th>\n",
       "      <td>object</td>\n",
       "      <td>0</td>\n",
       "      <td>0.0</td>\n",
       "      <td>2</td>\n",
       "      <td>1235</td>\n",
       "      <td>0.0</td>\n",
       "      <td>0.0</td>\n",
       "      <td>2.0</td>\n",
       "      <td>824.0</td>\n",
       "      <td>0.0</td>\n",
       "      <td>0.0</td>\n",
       "      <td>2.0</td>\n",
       "      <td>299.0</td>\n",
       "    </tr>\n",
       "    <tr>\n",
       "      <th>outcome</th>\n",
       "      <td>object</td>\n",
       "      <td>0</td>\n",
       "      <td>0.0</td>\n",
       "      <td>3</td>\n",
       "      <td>1235</td>\n",
       "      <td>NaN</td>\n",
       "      <td>NaN</td>\n",
       "      <td>NaN</td>\n",
       "      <td>NaN</td>\n",
       "      <td>0.0</td>\n",
       "      <td>0.0</td>\n",
       "      <td>3.0</td>\n",
       "      <td>299.0</td>\n",
       "    </tr>\n",
       "  </tbody>\n",
       "</table>\n",
       "</div>"
      ],
      "text/plain": [
       "                        dtypes  train_missing#  train_missing%  train_uniques  \\\n",
       "surgery                 object               0             0.0              2   \n",
       "age                     object               0             0.0              2   \n",
       "hospital_number          int64               0             0.0            255   \n",
       "rectal_temp            float64               0             0.0             43   \n",
       "pulse                  float64               0             0.0             50   \n",
       "respiratory_rate       float64               0             0.0             37   \n",
       "temp_of_extremities     object              39             3.2              4   \n",
       "peripheral_pulse        object              60             4.9              4   \n",
       "mucous_membrane         object              21             1.7              6   \n",
       "capillary_refill_time   object               6             0.5              3   \n",
       "pain                    object              44             3.6              6   \n",
       "peristalsis             object              20             1.6              5   \n",
       "abdominal_distention    object              23             1.9              4   \n",
       "nasogastric_tube        object              80             6.5              3   \n",
       "nasogastric_reflux      object              21             1.7              4   \n",
       "nasogastric_reflux_ph  float64               0             0.0             26   \n",
       "rectal_exam_feces       object             190            15.4              5   \n",
       "abdomen                 object             213            17.2              5   \n",
       "packed_cell_volume     float64               0             0.0             49   \n",
       "total_protein          float64               0             0.0             83   \n",
       "abdomo_appearance       object              48             3.9              3   \n",
       "abdomo_protein         float64               0             0.0             54   \n",
       "surgical_lesion         object               0             0.0              2   \n",
       "lesion_1                 int64               0             0.0             57   \n",
       "lesion_2                 int64               0             0.0              4   \n",
       "lesion_3                 int64               0             0.0              2   \n",
       "cp_data                 object               0             0.0              2   \n",
       "outcome                 object               0             0.0              3   \n",
       "\n",
       "                       train_count  test_missing#  test_missing%  \\\n",
       "surgery                       1235            0.0            0.0   \n",
       "age                           1235            0.0            0.0   \n",
       "hospital_number               1235            0.0            0.0   \n",
       "rectal_temp                   1235            0.0            0.0   \n",
       "pulse                         1235            0.0            0.0   \n",
       "respiratory_rate              1235            0.0            0.0   \n",
       "temp_of_extremities           1196           35.0            4.2   \n",
       "peripheral_pulse              1175           47.0            5.7   \n",
       "mucous_membrane               1214           13.0            1.6   \n",
       "capillary_refill_time         1229            6.0            0.7   \n",
       "pain                          1191           29.0            3.5   \n",
       "peristalsis                   1215           19.0            2.3   \n",
       "abdominal_distention          1212           22.0            2.7   \n",
       "nasogastric_tube              1155           64.0            7.8   \n",
       "nasogastric_reflux            1214           14.0            1.7   \n",
       "nasogastric_reflux_ph         1235            0.0            0.0   \n",
       "rectal_exam_feces             1045          125.0           15.2   \n",
       "abdomen                       1022          154.0           18.7   \n",
       "packed_cell_volume            1235            0.0            0.0   \n",
       "total_protein                 1235            0.0            0.0   \n",
       "abdomo_appearance             1187           31.0            3.8   \n",
       "abdomo_protein                1235            0.0            0.0   \n",
       "surgical_lesion               1235            0.0            0.0   \n",
       "lesion_1                      1235            0.0            0.0   \n",
       "lesion_2                      1235            0.0            0.0   \n",
       "lesion_3                      1235            0.0            0.0   \n",
       "cp_data                       1235            0.0            0.0   \n",
       "outcome                       1235            NaN            NaN   \n",
       "\n",
       "                       test_uniques  test_count  origin_missing#  \\\n",
       "surgery                         2.0       824.0              0.0   \n",
       "age                             2.0       824.0              0.0   \n",
       "hospital_number               210.0       824.0              0.0   \n",
       "rectal_temp                    34.0       824.0             60.0   \n",
       "pulse                          49.0       824.0             24.0   \n",
       "respiratory_rate               38.0       824.0             58.0   \n",
       "temp_of_extremities             4.0       789.0             56.0   \n",
       "peripheral_pulse                4.0       777.0             69.0   \n",
       "mucous_membrane                 6.0       811.0             47.0   \n",
       "capillary_refill_time           3.0       818.0             32.0   \n",
       "pain                            6.0       795.0             55.0   \n",
       "peristalsis                     4.0       805.0             44.0   \n",
       "abdominal_distention            4.0       802.0             56.0   \n",
       "nasogastric_tube                3.0       760.0            104.0   \n",
       "nasogastric_reflux              3.0       810.0            106.0   \n",
       "nasogastric_reflux_ph          29.0       824.0            246.0   \n",
       "rectal_exam_feces               4.0       699.0            102.0   \n",
       "abdomen                         5.0       670.0            118.0   \n",
       "packed_cell_volume             48.0       824.0             29.0   \n",
       "total_protein                  72.0       824.0             33.0   \n",
       "abdomo_appearance               3.0       793.0            165.0   \n",
       "abdomo_protein                 50.0       824.0            198.0   \n",
       "surgical_lesion                 2.0       824.0              0.0   \n",
       "lesion_1                       54.0       824.0              0.0   \n",
       "lesion_2                        4.0       824.0              0.0   \n",
       "lesion_3                        1.0       824.0              0.0   \n",
       "cp_data                         2.0       824.0              0.0   \n",
       "outcome                         NaN         NaN              0.0   \n",
       "\n",
       "                       origin_missing%  origin_uniques  origin_count  \n",
       "surgery                            0.0             2.0         299.0  \n",
       "age                                0.0             2.0         299.0  \n",
       "hospital_number                    0.0           283.0         299.0  \n",
       "rectal_temp                       20.1            40.0         239.0  \n",
       "pulse                              8.0            52.0         275.0  \n",
       "respiratory_rate                  19.4            40.0         241.0  \n",
       "temp_of_extremities               18.7             4.0         243.0  \n",
       "peripheral_pulse                  23.1             4.0         230.0  \n",
       "mucous_membrane                   15.7             6.0         252.0  \n",
       "capillary_refill_time             10.7             3.0         267.0  \n",
       "pain                              18.4             5.0         244.0  \n",
       "peristalsis                       14.7             4.0         255.0  \n",
       "abdominal_distention              18.7             4.0         243.0  \n",
       "nasogastric_tube                  34.8             3.0         195.0  \n",
       "nasogastric_reflux                35.5             3.0         193.0  \n",
       "nasogastric_reflux_ph             82.3            20.0          53.0  \n",
       "rectal_exam_feces                 34.1             4.0         197.0  \n",
       "abdomen                           39.5             5.0         181.0  \n",
       "packed_cell_volume                 9.7            50.0         270.0  \n",
       "total_protein                     11.0            80.0         266.0  \n",
       "abdomo_appearance                 55.2             3.0         134.0  \n",
       "abdomo_protein                    66.2            37.0         101.0  \n",
       "surgical_lesion                    0.0             2.0         299.0  \n",
       "lesion_1                           0.0            61.0         299.0  \n",
       "lesion_2                           0.0             6.0         299.0  \n",
       "lesion_3                           0.0             2.0         299.0  \n",
       "cp_data                            0.0             2.0         299.0  \n",
       "outcome                            0.0             3.0         299.0  "
      ]
     },
     "execution_count": 4,
     "metadata": {},
     "output_type": "execute_result"
    }
   ],
   "source": [
    "def summary_df(dataset, df):\n",
    "    \"\"\"\n",
    "        Args:\n",
    "            dataset ( str ): Name of the dataset\n",
    "            df ( dataframe ): dataframe\n",
    "\n",
    "        Returns:\n",
    "            summary ( dataframe ): summary of the input dataframe with No of missing values, % missing values compared to original dataset, No of unique values, No of non null rows\n",
    "    \"\"\"\n",
    "    summary = pd.DataFrame(df.dtypes, columns=[f'{dataset}_dtypes'])\n",
    "    summary[f'{dataset}_missing#'] = df.isna().sum()\n",
    "    summary[f'{dataset}_missing%'] = ((df.isna().sum())/len(df)*100).round(1)\n",
    "    summary[f'{dataset}_uniques'] = df.nunique().values\n",
    "    summary[f'{dataset}_count'] = df.count().values\n",
    "    #summary['skew'] = df.skew().values\n",
    "    return summary\n",
    "\n",
    "# Generate the summaries without styling first\n",
    "train_summary = summary_df(\"train\", train_df)\n",
    "test_summary = summary_df(\"test\", test_df)\n",
    "origin_summary = summary_df(\"origin\", original_df)\n",
    "\n",
    "combined_summary = pd.concat([train_summary, test_summary, origin_summary], axis=1)\n",
    "\n",
    "combined_summary.drop([\"test_dtypes\",\"origin_dtypes\"],axis=1,inplace=True)\n",
    "combined_summary.rename({\"train_dtypes\":\"dtypes\"},axis=1,inplace=True)\n",
    "combined_summary.drop('id',axis=0,inplace=True)\n",
    "combined_summary"
   ]
  },
  {
   "cell_type": "code",
   "execution_count": 13,
   "metadata": {},
   "outputs": [
    {
     "data": {
      "application/vnd.plotly.v1+json": {
       "config": {
        "plotlyServerURL": "https://plot.ly"
       },
       "data": [
        {
         "hovertemplate": "variable=origin_missing%<br>index=%{x}<br>% Missing=%{y}<extra></extra>",
         "legendgroup": "origin_missing%",
         "line": {
          "color": "#636efa",
          "dash": "solid"
         },
         "marker": {
          "symbol": "circle"
         },
         "mode": "lines",
         "name": "origin_missing%",
         "orientation": "v",
         "showlegend": true,
         "type": "scatter",
         "x": [
          "surgery",
          "age",
          "hospital_number",
          "rectal_temp",
          "pulse",
          "respiratory_rate",
          "temp_of_extremities",
          "peripheral_pulse",
          "mucous_membrane",
          "capillary_refill_time",
          "pain",
          "peristalsis",
          "abdominal_distention",
          "nasogastric_tube",
          "nasogastric_reflux",
          "nasogastric_reflux_ph",
          "rectal_exam_feces",
          "abdomen",
          "packed_cell_volume",
          "total_protein",
          "abdomo_appearance",
          "abdomo_protein",
          "surgical_lesion",
          "lesion_1",
          "lesion_2",
          "lesion_3",
          "cp_data",
          "outcome"
         ],
         "xaxis": "x",
         "y": [
          0,
          0,
          0,
          20.1,
          8,
          19.4,
          18.7,
          23.1,
          15.7,
          10.7,
          18.4,
          14.7,
          18.7,
          34.8,
          35.5,
          82.3,
          34.1,
          39.5,
          9.7,
          11,
          55.2,
          66.2,
          0,
          0,
          0,
          0,
          0,
          0
         ],
         "yaxis": "y"
        },
        {
         "hovertemplate": "variable=test_missing%<br>index=%{x}<br>% Missing=%{y}<extra></extra>",
         "legendgroup": "test_missing%",
         "line": {
          "color": "#EF553B",
          "dash": "solid"
         },
         "marker": {
          "symbol": "circle"
         },
         "mode": "lines",
         "name": "test_missing%",
         "orientation": "v",
         "showlegend": true,
         "type": "scatter",
         "x": [
          "surgery",
          "age",
          "hospital_number",
          "rectal_temp",
          "pulse",
          "respiratory_rate",
          "temp_of_extremities",
          "peripheral_pulse",
          "mucous_membrane",
          "capillary_refill_time",
          "pain",
          "peristalsis",
          "abdominal_distention",
          "nasogastric_tube",
          "nasogastric_reflux",
          "nasogastric_reflux_ph",
          "rectal_exam_feces",
          "abdomen",
          "packed_cell_volume",
          "total_protein",
          "abdomo_appearance",
          "abdomo_protein",
          "surgical_lesion",
          "lesion_1",
          "lesion_2",
          "lesion_3",
          "cp_data",
          "outcome"
         ],
         "xaxis": "x",
         "y": [
          0,
          0,
          0,
          0,
          0,
          0,
          4.2,
          5.7,
          1.6,
          0.7,
          3.5,
          2.3,
          2.7,
          7.8,
          1.7,
          0,
          15.2,
          18.7,
          0,
          0,
          3.8,
          0,
          0,
          0,
          0,
          0,
          0,
          null
         ],
         "yaxis": "y"
        },
        {
         "hovertemplate": "variable=train_missing%<br>index=%{x}<br>% Missing=%{y}<extra></extra>",
         "legendgroup": "train_missing%",
         "line": {
          "color": "#00cc96",
          "dash": "solid"
         },
         "marker": {
          "symbol": "circle"
         },
         "mode": "lines",
         "name": "train_missing%",
         "orientation": "v",
         "showlegend": true,
         "type": "scatter",
         "x": [
          "surgery",
          "age",
          "hospital_number",
          "rectal_temp",
          "pulse",
          "respiratory_rate",
          "temp_of_extremities",
          "peripheral_pulse",
          "mucous_membrane",
          "capillary_refill_time",
          "pain",
          "peristalsis",
          "abdominal_distention",
          "nasogastric_tube",
          "nasogastric_reflux",
          "nasogastric_reflux_ph",
          "rectal_exam_feces",
          "abdomen",
          "packed_cell_volume",
          "total_protein",
          "abdomo_appearance",
          "abdomo_protein",
          "surgical_lesion",
          "lesion_1",
          "lesion_2",
          "lesion_3",
          "cp_data",
          "outcome"
         ],
         "xaxis": "x",
         "y": [
          0,
          0,
          0,
          0,
          0,
          0,
          3.2,
          4.9,
          1.7,
          0.5,
          3.6,
          1.6,
          1.9,
          6.5,
          1.7,
          0,
          15.4,
          17.2,
          0,
          0,
          3.9,
          0,
          0,
          0,
          0,
          0,
          0,
          0
         ],
         "yaxis": "y"
        }
       ],
       "layout": {
        "legend": {
         "orientation": "h",
         "title": {
          "text": "variable"
         },
         "tracegroupgap": 0,
         "x": 0.02,
         "y": 0.9
        },
        "template": {
         "data": {
          "bar": [
           {
            "error_x": {
             "color": "#2a3f5f"
            },
            "error_y": {
             "color": "#2a3f5f"
            },
            "marker": {
             "line": {
              "color": "#E5ECF6",
              "width": 0.5
             },
             "pattern": {
              "fillmode": "overlay",
              "size": 10,
              "solidity": 0.2
             }
            },
            "type": "bar"
           }
          ],
          "barpolar": [
           {
            "marker": {
             "line": {
              "color": "#E5ECF6",
              "width": 0.5
             },
             "pattern": {
              "fillmode": "overlay",
              "size": 10,
              "solidity": 0.2
             }
            },
            "type": "barpolar"
           }
          ],
          "carpet": [
           {
            "aaxis": {
             "endlinecolor": "#2a3f5f",
             "gridcolor": "white",
             "linecolor": "white",
             "minorgridcolor": "white",
             "startlinecolor": "#2a3f5f"
            },
            "baxis": {
             "endlinecolor": "#2a3f5f",
             "gridcolor": "white",
             "linecolor": "white",
             "minorgridcolor": "white",
             "startlinecolor": "#2a3f5f"
            },
            "type": "carpet"
           }
          ],
          "choropleth": [
           {
            "colorbar": {
             "outlinewidth": 0,
             "ticks": ""
            },
            "type": "choropleth"
           }
          ],
          "contour": [
           {
            "colorbar": {
             "outlinewidth": 0,
             "ticks": ""
            },
            "colorscale": [
             [
              0,
              "#0d0887"
             ],
             [
              0.1111111111111111,
              "#46039f"
             ],
             [
              0.2222222222222222,
              "#7201a8"
             ],
             [
              0.3333333333333333,
              "#9c179e"
             ],
             [
              0.4444444444444444,
              "#bd3786"
             ],
             [
              0.5555555555555556,
              "#d8576b"
             ],
             [
              0.6666666666666666,
              "#ed7953"
             ],
             [
              0.7777777777777778,
              "#fb9f3a"
             ],
             [
              0.8888888888888888,
              "#fdca26"
             ],
             [
              1,
              "#f0f921"
             ]
            ],
            "type": "contour"
           }
          ],
          "contourcarpet": [
           {
            "colorbar": {
             "outlinewidth": 0,
             "ticks": ""
            },
            "type": "contourcarpet"
           }
          ],
          "heatmap": [
           {
            "colorbar": {
             "outlinewidth": 0,
             "ticks": ""
            },
            "colorscale": [
             [
              0,
              "#0d0887"
             ],
             [
              0.1111111111111111,
              "#46039f"
             ],
             [
              0.2222222222222222,
              "#7201a8"
             ],
             [
              0.3333333333333333,
              "#9c179e"
             ],
             [
              0.4444444444444444,
              "#bd3786"
             ],
             [
              0.5555555555555556,
              "#d8576b"
             ],
             [
              0.6666666666666666,
              "#ed7953"
             ],
             [
              0.7777777777777778,
              "#fb9f3a"
             ],
             [
              0.8888888888888888,
              "#fdca26"
             ],
             [
              1,
              "#f0f921"
             ]
            ],
            "type": "heatmap"
           }
          ],
          "heatmapgl": [
           {
            "colorbar": {
             "outlinewidth": 0,
             "ticks": ""
            },
            "colorscale": [
             [
              0,
              "#0d0887"
             ],
             [
              0.1111111111111111,
              "#46039f"
             ],
             [
              0.2222222222222222,
              "#7201a8"
             ],
             [
              0.3333333333333333,
              "#9c179e"
             ],
             [
              0.4444444444444444,
              "#bd3786"
             ],
             [
              0.5555555555555556,
              "#d8576b"
             ],
             [
              0.6666666666666666,
              "#ed7953"
             ],
             [
              0.7777777777777778,
              "#fb9f3a"
             ],
             [
              0.8888888888888888,
              "#fdca26"
             ],
             [
              1,
              "#f0f921"
             ]
            ],
            "type": "heatmapgl"
           }
          ],
          "histogram": [
           {
            "marker": {
             "pattern": {
              "fillmode": "overlay",
              "size": 10,
              "solidity": 0.2
             }
            },
            "type": "histogram"
           }
          ],
          "histogram2d": [
           {
            "colorbar": {
             "outlinewidth": 0,
             "ticks": ""
            },
            "colorscale": [
             [
              0,
              "#0d0887"
             ],
             [
              0.1111111111111111,
              "#46039f"
             ],
             [
              0.2222222222222222,
              "#7201a8"
             ],
             [
              0.3333333333333333,
              "#9c179e"
             ],
             [
              0.4444444444444444,
              "#bd3786"
             ],
             [
              0.5555555555555556,
              "#d8576b"
             ],
             [
              0.6666666666666666,
              "#ed7953"
             ],
             [
              0.7777777777777778,
              "#fb9f3a"
             ],
             [
              0.8888888888888888,
              "#fdca26"
             ],
             [
              1,
              "#f0f921"
             ]
            ],
            "type": "histogram2d"
           }
          ],
          "histogram2dcontour": [
           {
            "colorbar": {
             "outlinewidth": 0,
             "ticks": ""
            },
            "colorscale": [
             [
              0,
              "#0d0887"
             ],
             [
              0.1111111111111111,
              "#46039f"
             ],
             [
              0.2222222222222222,
              "#7201a8"
             ],
             [
              0.3333333333333333,
              "#9c179e"
             ],
             [
              0.4444444444444444,
              "#bd3786"
             ],
             [
              0.5555555555555556,
              "#d8576b"
             ],
             [
              0.6666666666666666,
              "#ed7953"
             ],
             [
              0.7777777777777778,
              "#fb9f3a"
             ],
             [
              0.8888888888888888,
              "#fdca26"
             ],
             [
              1,
              "#f0f921"
             ]
            ],
            "type": "histogram2dcontour"
           }
          ],
          "mesh3d": [
           {
            "colorbar": {
             "outlinewidth": 0,
             "ticks": ""
            },
            "type": "mesh3d"
           }
          ],
          "parcoords": [
           {
            "line": {
             "colorbar": {
              "outlinewidth": 0,
              "ticks": ""
             }
            },
            "type": "parcoords"
           }
          ],
          "pie": [
           {
            "automargin": true,
            "type": "pie"
           }
          ],
          "scatter": [
           {
            "fillpattern": {
             "fillmode": "overlay",
             "size": 10,
             "solidity": 0.2
            },
            "type": "scatter"
           }
          ],
          "scatter3d": [
           {
            "line": {
             "colorbar": {
              "outlinewidth": 0,
              "ticks": ""
             }
            },
            "marker": {
             "colorbar": {
              "outlinewidth": 0,
              "ticks": ""
             }
            },
            "type": "scatter3d"
           }
          ],
          "scattercarpet": [
           {
            "marker": {
             "colorbar": {
              "outlinewidth": 0,
              "ticks": ""
             }
            },
            "type": "scattercarpet"
           }
          ],
          "scattergeo": [
           {
            "marker": {
             "colorbar": {
              "outlinewidth": 0,
              "ticks": ""
             }
            },
            "type": "scattergeo"
           }
          ],
          "scattergl": [
           {
            "marker": {
             "colorbar": {
              "outlinewidth": 0,
              "ticks": ""
             }
            },
            "type": "scattergl"
           }
          ],
          "scattermapbox": [
           {
            "marker": {
             "colorbar": {
              "outlinewidth": 0,
              "ticks": ""
             }
            },
            "type": "scattermapbox"
           }
          ],
          "scatterpolar": [
           {
            "marker": {
             "colorbar": {
              "outlinewidth": 0,
              "ticks": ""
             }
            },
            "type": "scatterpolar"
           }
          ],
          "scatterpolargl": [
           {
            "marker": {
             "colorbar": {
              "outlinewidth": 0,
              "ticks": ""
             }
            },
            "type": "scatterpolargl"
           }
          ],
          "scatterternary": [
           {
            "marker": {
             "colorbar": {
              "outlinewidth": 0,
              "ticks": ""
             }
            },
            "type": "scatterternary"
           }
          ],
          "surface": [
           {
            "colorbar": {
             "outlinewidth": 0,
             "ticks": ""
            },
            "colorscale": [
             [
              0,
              "#0d0887"
             ],
             [
              0.1111111111111111,
              "#46039f"
             ],
             [
              0.2222222222222222,
              "#7201a8"
             ],
             [
              0.3333333333333333,
              "#9c179e"
             ],
             [
              0.4444444444444444,
              "#bd3786"
             ],
             [
              0.5555555555555556,
              "#d8576b"
             ],
             [
              0.6666666666666666,
              "#ed7953"
             ],
             [
              0.7777777777777778,
              "#fb9f3a"
             ],
             [
              0.8888888888888888,
              "#fdca26"
             ],
             [
              1,
              "#f0f921"
             ]
            ],
            "type": "surface"
           }
          ],
          "table": [
           {
            "cells": {
             "fill": {
              "color": "#EBF0F8"
             },
             "line": {
              "color": "white"
             }
            },
            "header": {
             "fill": {
              "color": "#C8D4E3"
             },
             "line": {
              "color": "white"
             }
            },
            "type": "table"
           }
          ]
         },
         "layout": {
          "annotationdefaults": {
           "arrowcolor": "#2a3f5f",
           "arrowhead": 0,
           "arrowwidth": 1
          },
          "autotypenumbers": "strict",
          "coloraxis": {
           "colorbar": {
            "outlinewidth": 0,
            "ticks": ""
           }
          },
          "colorscale": {
           "diverging": [
            [
             0,
             "#8e0152"
            ],
            [
             0.1,
             "#c51b7d"
            ],
            [
             0.2,
             "#de77ae"
            ],
            [
             0.3,
             "#f1b6da"
            ],
            [
             0.4,
             "#fde0ef"
            ],
            [
             0.5,
             "#f7f7f7"
            ],
            [
             0.6,
             "#e6f5d0"
            ],
            [
             0.7,
             "#b8e186"
            ],
            [
             0.8,
             "#7fbc41"
            ],
            [
             0.9,
             "#4d9221"
            ],
            [
             1,
             "#276419"
            ]
           ],
           "sequential": [
            [
             0,
             "#0d0887"
            ],
            [
             0.1111111111111111,
             "#46039f"
            ],
            [
             0.2222222222222222,
             "#7201a8"
            ],
            [
             0.3333333333333333,
             "#9c179e"
            ],
            [
             0.4444444444444444,
             "#bd3786"
            ],
            [
             0.5555555555555556,
             "#d8576b"
            ],
            [
             0.6666666666666666,
             "#ed7953"
            ],
            [
             0.7777777777777778,
             "#fb9f3a"
            ],
            [
             0.8888888888888888,
             "#fdca26"
            ],
            [
             1,
             "#f0f921"
            ]
           ],
           "sequentialminus": [
            [
             0,
             "#0d0887"
            ],
            [
             0.1111111111111111,
             "#46039f"
            ],
            [
             0.2222222222222222,
             "#7201a8"
            ],
            [
             0.3333333333333333,
             "#9c179e"
            ],
            [
             0.4444444444444444,
             "#bd3786"
            ],
            [
             0.5555555555555556,
             "#d8576b"
            ],
            [
             0.6666666666666666,
             "#ed7953"
            ],
            [
             0.7777777777777778,
             "#fb9f3a"
            ],
            [
             0.8888888888888888,
             "#fdca26"
            ],
            [
             1,
             "#f0f921"
            ]
           ]
          },
          "colorway": [
           "#636efa",
           "#EF553B",
           "#00cc96",
           "#ab63fa",
           "#FFA15A",
           "#19d3f3",
           "#FF6692",
           "#B6E880",
           "#FF97FF",
           "#FECB52"
          ],
          "font": {
           "color": "#2a3f5f"
          },
          "geo": {
           "bgcolor": "white",
           "lakecolor": "white",
           "landcolor": "#E5ECF6",
           "showlakes": true,
           "showland": true,
           "subunitcolor": "white"
          },
          "hoverlabel": {
           "align": "left"
          },
          "hovermode": "closest",
          "mapbox": {
           "style": "light"
          },
          "paper_bgcolor": "white",
          "plot_bgcolor": "#E5ECF6",
          "polar": {
           "angularaxis": {
            "gridcolor": "white",
            "linecolor": "white",
            "ticks": ""
           },
           "bgcolor": "#E5ECF6",
           "radialaxis": {
            "gridcolor": "white",
            "linecolor": "white",
            "ticks": ""
           }
          },
          "scene": {
           "xaxis": {
            "backgroundcolor": "#E5ECF6",
            "gridcolor": "white",
            "gridwidth": 2,
            "linecolor": "white",
            "showbackground": true,
            "ticks": "",
            "zerolinecolor": "white"
           },
           "yaxis": {
            "backgroundcolor": "#E5ECF6",
            "gridcolor": "white",
            "gridwidth": 2,
            "linecolor": "white",
            "showbackground": true,
            "ticks": "",
            "zerolinecolor": "white"
           },
           "zaxis": {
            "backgroundcolor": "#E5ECF6",
            "gridcolor": "white",
            "gridwidth": 2,
            "linecolor": "white",
            "showbackground": true,
            "ticks": "",
            "zerolinecolor": "white"
           }
          },
          "shapedefaults": {
           "line": {
            "color": "#2a3f5f"
           }
          },
          "ternary": {
           "aaxis": {
            "gridcolor": "white",
            "linecolor": "white",
            "ticks": ""
           },
           "baxis": {
            "gridcolor": "white",
            "linecolor": "white",
            "ticks": ""
           },
           "bgcolor": "#E5ECF6",
           "caxis": {
            "gridcolor": "white",
            "linecolor": "white",
            "ticks": ""
           }
          },
          "title": {
           "x": 0.05
          },
          "xaxis": {
           "automargin": true,
           "gridcolor": "white",
           "linecolor": "white",
           "ticks": "",
           "title": {
            "standoff": 15
           },
           "zerolinecolor": "white",
           "zerolinewidth": 2
          },
          "yaxis": {
           "automargin": true,
           "gridcolor": "white",
           "linecolor": "white",
           "ticks": "",
           "title": {
            "standoff": 15
           },
           "zerolinecolor": "white",
           "zerolinewidth": 2
          }
         }
        },
        "title": {
         "text": "% Missing values in datasets",
         "x": 0.5
        },
        "xaxis": {
         "anchor": "y",
         "domain": [
          0,
          1
         ],
         "showgrid": false,
         "tickangle": 90,
         "title": {
          "text": "index"
         }
        },
        "yaxis": {
         "anchor": "x",
         "domain": [
          0,
          1
         ],
         "showgrid": false,
         "title": {
          "text": "% Missing"
         }
        }
       }
      }
     },
     "metadata": {},
     "output_type": "display_data"
    }
   ],
   "source": [
    "\n",
    "fig = px.line(combined_summary, x=combined_summary.index, y=['origin_missing%', 'test_missing%', 'train_missing%'],\n",
    "              labels={'x': 'Index', 'value': '% Missing'},\n",
    "              title='% Missing values in datasets')\n",
    "\n",
    "fig.update_xaxes(showgrid=False, tickangle=90)\n",
    "fig.update_yaxes(showgrid=False)\n",
    "\n",
    "fig.update_layout(title_x=0.5)\n",
    "\n",
    "fig.update_layout(legend=dict(x=0.02,y=0.9, orientation='h'))\n",
    "\n",
    "fig.show()"
   ]
  },
  {
   "cell_type": "markdown",
   "metadata": {},
   "source": [
    "* Train and test dataset are simillar in terms of missing data\n",
    "* Original dtaaset seems to have 10-15% of missing values in their dataset"
   ]
  },
  {
   "cell_type": "code",
   "execution_count": null,
   "metadata": {},
   "outputs": [],
   "source": []
  }
 ],
 "metadata": {
  "kernelspec": {
   "display_name": "env",
   "language": "python",
   "name": "python3"
  },
  "language_info": {
   "codemirror_mode": {
    "name": "ipython",
    "version": 3
   },
   "file_extension": ".py",
   "mimetype": "text/x-python",
   "name": "python",
   "nbconvert_exporter": "python",
   "pygments_lexer": "ipython3",
   "version": "3.11.5"
  },
  "orig_nbformat": 4
 },
 "nbformat": 4,
 "nbformat_minor": 2
}
